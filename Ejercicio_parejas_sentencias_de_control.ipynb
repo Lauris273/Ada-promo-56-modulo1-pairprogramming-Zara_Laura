{
 "cells": [
  {
   "cell_type": "markdown",
   "id": "881dc793",
   "metadata": {},
   "source": [
    "Ejercicios if-else"
   ]
  },
  {
   "cell_type": "markdown",
   "id": "6a41a970",
   "metadata": {},
   "source": [
    "Ejercicio 1"
   ]
  },
  {
   "cell_type": "code",
   "execution_count": 8,
   "id": "55d84b51",
   "metadata": {},
   "outputs": [
    {
     "name": "stdout",
     "output_type": "stream",
     "text": [
      "8\n",
      "el número es positivo\n"
     ]
    }
   ],
   "source": [
    "numero = int(input())\n",
    "print(input())\n",
    "if numero < 0:\n",
    "    print('elnúmero es negativo')\n",
    "elif numero > 0:\n",
    "    print('el número es positivo')\n",
    "elif numero == 0:\n",
    "    print('el número es igual a 0')"
   ]
  },
  {
   "cell_type": "markdown",
   "id": "e350c1af",
   "metadata": {},
   "source": [
    "Ejercicio 2"
   ]
  },
  {
   "cell_type": "code",
   "execution_count": 27,
   "id": "2b665a2d",
   "metadata": {},
   "outputs": [
    {
     "name": "stdout",
     "output_type": "stream",
     "text": [
      "8\n",
      "el número es par\n"
     ]
    }
   ],
   "source": [
    "numero1 = int(input())\n",
    "print(input())\n",
    "\n",
    "if numero1 %2==0:\n",
    "    print('el número es par')\n",
    "elif numero1 %2==1:\n",
    "    print('el número es impar')"
   ]
  },
  {
   "cell_type": "markdown",
   "id": "ec3a151a",
   "metadata": {},
   "source": [
    "Ejercicio 3"
   ]
  },
  {
   "cell_type": "code",
   "execution_count": 29,
   "id": "b4567540",
   "metadata": {},
   "outputs": [
    {
     "name": "stdout",
     "output_type": "stream",
     "text": [
      "has aprobado\n"
     ]
    }
   ],
   "source": [
    "calificacion_estudiante = 70\n",
    "if calificacion_estudiante >= 60:\n",
    "    print('has aprobado')\n",
    "else:\n",
    "    print('has suspendido')"
   ]
  },
  {
   "cell_type": "markdown",
   "id": "676f065a",
   "metadata": {},
   "source": [
    "Ejericio 4"
   ]
  },
  {
   "cell_type": "code",
   "execution_count": 61,
   "id": "e9dde52d",
   "metadata": {},
   "outputs": [
    {
     "name": "stdout",
     "output_type": "stream",
     "text": [
      "el numero2 tiene más valor que el numero3\n"
     ]
    }
   ],
   "source": [
    "numero2 = 16\n",
    "numero3 = 8\n",
    "\n",
    "if numero2 > numero3:\n",
    "    print('el numero2 tiene más valor que el numero3')\n",
    "elif numero2 < numero3:\n",
    "    print('el numero2 tiene menor valor que el numero3')\n",
    "else:\n",
    "    print('tienen el mismo valor')"
   ]
  },
  {
   "cell_type": "code",
   "execution_count": null,
   "id": "a8da81c2",
   "metadata": {},
   "outputs": [
    {
     "name": "stdout",
     "output_type": "stream",
     "text": [
      "16\n",
      "el máximo es el 16\n"
     ]
    }
   ],
   "source": [
    "lista = [numero2, numero3]\n",
    "print(max(lista))\n",
    "if max(lista)==numero2:\n",
    "    print('el máximo es el', numero2) #vale tanto popner la variable\n",
    "else:\n",
    "    print('el máximo es el', lista[1]) #como popner la posición del índice de la lista"
   ]
  },
  {
   "cell_type": "markdown",
   "id": "b5231b06",
   "metadata": {},
   "source": [
    "Ejercicio 5"
   ]
  },
  {
   "cell_type": "code",
   "execution_count": 40,
   "id": "bc247155",
   "metadata": {},
   "outputs": [
    {
     "name": "stdout",
     "output_type": "stream",
     "text": [
      "la letra es una consonante\n"
     ]
    }
   ],
   "source": [
    "letra = 'p'\n",
    "if letra == ['a', 'e', 'i', 'o', 'u']:\n",
    "    print('la letra es una vocal')\n",
    "else:\n",
    "    print('la letra es una consonante')"
   ]
  },
  {
   "cell_type": "markdown",
   "id": "110a91e9",
   "metadata": {},
   "source": [
    "Ejercicio 6"
   ]
  },
  {
   "cell_type": "code",
   "execution_count": 68,
   "id": "e7e5efe9",
   "metadata": {},
   "outputs": [
    {
     "name": "stdout",
     "output_type": "stream",
     "text": [
      "120\n",
      "descuennto de 12.0\n",
      "nos sale con descuento por 108.0\n"
     ]
    }
   ],
   "source": [
    "total_compra = int(input())\n",
    "print(input())\n",
    "\n",
    "if total_compra >= 100:\n",
    "    print('descuennto de', total_compra*10/100)\n",
    "    print('nos sale con descuento por', total_compra - total_compra*10/100)\n",
    "else:\n",
    "    print(total_compra)"
   ]
  },
  {
   "cell_type": "markdown",
   "id": "6ed69c64",
   "metadata": {},
   "source": [
    "Ejercicio 7 revisar"
   ]
  },
  {
   "cell_type": "code",
   "execution_count": null,
   "id": "991afb43",
   "metadata": {},
   "outputs": [],
   "source": [
    "año = 366\n",
    "año/4 =\n",
    "año/100\n",
    "\n",
    "if año /4 or /100 00:\n",
    "    print('no es bisiesto')"
   ]
  }
 ],
 "metadata": {
  "kernelspec": {
   "display_name": "base",
   "language": "python",
   "name": "python3"
  },
  "language_info": {
   "codemirror_mode": {
    "name": "ipython",
    "version": 3
   },
   "file_extension": ".py",
   "mimetype": "text/x-python",
   "name": "python",
   "nbconvert_exporter": "python",
   "pygments_lexer": "ipython3",
   "version": "3.12.7"
  }
 },
 "nbformat": 4,
 "nbformat_minor": 5
}
