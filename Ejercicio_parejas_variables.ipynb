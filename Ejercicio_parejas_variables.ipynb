{
 "cells": [
  {
   "cell_type": "markdown",
   "id": "517d73de",
   "metadata": {},
   "source": [
    "Ejercicio 1"
   ]
  },
  {
   "cell_type": "code",
   "execution_count": 15,
   "id": "aa16ec81",
   "metadata": {},
   "outputs": [],
   "source": [
    "numero1=10\n",
    "numero2=15\n",
    "numero3=9"
   ]
  },
  {
   "cell_type": "code",
   "execution_count": 16,
   "id": "88d07b2e",
   "metadata": {},
   "outputs": [
    {
     "data": {
      "text/plain": [
       "False"
      ]
     },
     "execution_count": 16,
     "metadata": {},
     "output_type": "execute_result"
    }
   ],
   "source": [
    "numero1>numero2"
   ]
  },
  {
   "cell_type": "code",
   "execution_count": 17,
   "id": "b40b80f7",
   "metadata": {},
   "outputs": [
    {
     "data": {
      "text/plain": [
       "True"
      ]
     },
     "execution_count": 17,
     "metadata": {},
     "output_type": "execute_result"
    }
   ],
   "source": [
    "numero1<numero2 and numero1>numero3"
   ]
  },
  {
   "cell_type": "code",
   "execution_count": 18,
   "id": "08822b00",
   "metadata": {},
   "outputs": [
    {
     "data": {
      "text/plain": [
       "False"
      ]
     },
     "execution_count": 18,
     "metadata": {},
     "output_type": "execute_result"
    }
   ],
   "source": [
    "numero3==numero2"
   ]
  },
  {
   "cell_type": "code",
   "execution_count": 19,
   "id": "e83a3976",
   "metadata": {},
   "outputs": [
    {
     "data": {
      "text/plain": [
       "True"
      ]
     },
     "execution_count": 19,
     "metadata": {},
     "output_type": "execute_result"
    }
   ],
   "source": [
    "numero2!=numero1"
   ]
  },
  {
   "cell_type": "markdown",
   "id": "3c6f4985",
   "metadata": {},
   "source": [
    "Ejercicio 2"
   ]
  },
  {
   "cell_type": "code",
   "execution_count": 21,
   "id": "7dd39216",
   "metadata": {},
   "outputs": [],
   "source": [
    "altura1=1.65\n",
    "altura2=1.70"
   ]
  },
  {
   "cell_type": "code",
   "execution_count": 22,
   "id": "c65259b5",
   "metadata": {},
   "outputs": [
    {
     "name": "stdout",
     "output_type": "stream",
     "text": [
      "3.3499999999999996\n"
     ]
    }
   ],
   "source": [
    "print(altura1+altura2)"
   ]
  },
  {
   "cell_type": "code",
   "execution_count": 23,
   "id": "86caf6df",
   "metadata": {},
   "outputs": [
    {
     "name": "stdout",
     "output_type": "stream",
     "text": [
      "0.050000000000000044\n"
     ]
    }
   ],
   "source": [
    "print(altura2-altura1)"
   ]
  },
  {
   "cell_type": "code",
   "execution_count": 24,
   "id": "69ad6b0b",
   "metadata": {},
   "outputs": [
    {
     "name": "stdout",
     "output_type": "stream",
     "text": [
      "0.050000000000000044\n"
     ]
    }
   ],
   "source": [
    "print(altura2%altura1)"
   ]
  },
  {
   "cell_type": "code",
   "execution_count": 26,
   "id": "05847e98",
   "metadata": {},
   "outputs": [
    {
     "data": {
      "text/plain": [
       "1.0"
      ]
     },
     "execution_count": 26,
     "metadata": {},
     "output_type": "execute_result"
    }
   ],
   "source": [
    "round(altura2/altura1,1)"
   ]
  },
  {
   "cell_type": "code",
   "execution_count": 27,
   "id": "43aed905",
   "metadata": {},
   "outputs": [
    {
     "data": {
      "text/plain": [
       "1.0303030303030303"
      ]
     },
     "execution_count": 27,
     "metadata": {},
     "output_type": "execute_result"
    }
   ],
   "source": [
    "altura2/altura1"
   ]
  },
  {
   "cell_type": "markdown",
   "id": "811ee3dd",
   "metadata": {},
   "source": [
    "Ejercicio 3"
   ]
  },
  {
   "cell_type": "code",
   "execution_count": 30,
   "id": "d0a77a3d",
   "metadata": {},
   "outputs": [
    {
     "name": "stdout",
     "output_type": "stream",
     "text": [
      "Laura Fernandez\n"
     ]
    }
   ],
   "source": [
    "nombre_apellidos=input()\n",
    "print(nombre_apellidos)"
   ]
  },
  {
   "cell_type": "code",
   "execution_count": 31,
   "id": "c1f95bb9",
   "metadata": {},
   "outputs": [
    {
     "name": "stdout",
     "output_type": "stream",
     "text": [
      "LAURA FERNANDEZ\n"
     ]
    }
   ],
   "source": [
    "print(nombre_apellidos.upper())"
   ]
  },
  {
   "cell_type": "code",
   "execution_count": 32,
   "id": "7977409e",
   "metadata": {},
   "outputs": [
    {
     "name": "stdout",
     "output_type": "stream",
     "text": [
      "laura fernandez\n"
     ]
    }
   ],
   "source": [
    "print(nombre_apellidos.lower())"
   ]
  },
  {
   "cell_type": "code",
   "execution_count": 33,
   "id": "f95250bf",
   "metadata": {},
   "outputs": [
    {
     "name": "stdout",
     "output_type": "stream",
     "text": [
      "Laura Fernandez\n"
     ]
    }
   ],
   "source": [
    "print(nombre_apellidos.title())"
   ]
  },
  {
   "cell_type": "code",
   "execution_count": 34,
   "id": "e6b13668",
   "metadata": {},
   "outputs": [
    {
     "name": "stdout",
     "output_type": "stream",
     "text": [
      "Laura fernandez\n"
     ]
    }
   ],
   "source": [
    "print(nombre_apellidos.capitalize())"
   ]
  },
  {
   "cell_type": "markdown",
   "id": "166b7416",
   "metadata": {},
   "source": [
    "Ejercicio 4"
   ]
  },
  {
   "cell_type": "code",
   "execution_count": 35,
   "id": "b6d836b4",
   "metadata": {},
   "outputs": [],
   "source": [
    "nombre_mascota=input()"
   ]
  },
  {
   "cell_type": "code",
   "execution_count": 36,
   "id": "b4eb7cb3",
   "metadata": {},
   "outputs": [],
   "source": [
    "nombre_mascota2=nombre_mascota"
   ]
  },
  {
   "cell_type": "code",
   "execution_count": 37,
   "id": "32af47b1",
   "metadata": {},
   "outputs": [
    {
     "name": "stdout",
     "output_type": "stream",
     "text": [
      "Sol\n"
     ]
    }
   ],
   "source": [
    "print(nombre_mascota2)"
   ]
  }
 ],
 "metadata": {
  "kernelspec": {
   "display_name": "Python 3",
   "language": "python",
   "name": "python3"
  },
  "language_info": {
   "codemirror_mode": {
    "name": "ipython",
    "version": 3
   },
   "file_extension": ".py",
   "mimetype": "text/x-python",
   "name": "python",
   "nbconvert_exporter": "python",
   "pygments_lexer": "ipython3",
   "version": "3.11.9"
  }
 },
 "nbformat": 4,
 "nbformat_minor": 5
}
