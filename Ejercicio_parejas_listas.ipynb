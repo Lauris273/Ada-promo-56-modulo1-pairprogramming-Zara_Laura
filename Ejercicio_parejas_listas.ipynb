{
 "cells": [
  {
   "cell_type": "markdown",
   "id": "08c248ed",
   "metadata": {},
   "source": [
    "Ejercicio 1 duplicar elementos de una lista"
   ]
  },
  {
   "cell_type": "code",
   "execution_count": 26,
   "id": "490397f1",
   "metadata": {},
   "outputs": [
    {
     "name": "stdout",
     "output_type": "stream",
     "text": [
      "[2, 4, 6, 8]\n"
     ]
    }
   ],
   "source": [
    "lista=[2, 4, 6, 8]\n",
    "print(lista)"
   ]
  },
  {
   "cell_type": "code",
   "execution_count": 27,
   "id": "d55246c0",
   "metadata": {},
   "outputs": [
    {
     "name": "stdout",
     "output_type": "stream",
     "text": [
      "[2, 4, 6, 8, 2, 4, 6, 8]\n"
     ]
    }
   ],
   "source": [
    "lista.extend(lista)\n",
    "print(lista)"
   ]
  },
  {
   "cell_type": "markdown",
   "id": "e166f47b",
   "metadata": {},
   "source": [
    "Ejercicio 2 combinar 2 listas en una nueva"
   ]
  },
  {
   "cell_type": "code",
   "execution_count": 39,
   "id": "ab1b067d",
   "metadata": {},
   "outputs": [
    {
     "name": "stdout",
     "output_type": "stream",
     "text": [
      "[1, 2, 3]\n",
      "[4, 5, 6]\n"
     ]
    }
   ],
   "source": [
    "lista1=[1, 2, 3]\n",
    "lista2=[4, 5, 6]\n",
    "print(lista1)\n",
    "print(lista2)"
   ]
  },
  {
   "cell_type": "code",
   "execution_count": 40,
   "id": "d2a58b85",
   "metadata": {},
   "outputs": [
    {
     "name": "stdout",
     "output_type": "stream",
     "text": [
      "[1, 2, 3]\n"
     ]
    }
   ],
   "source": [
    "lista3=lista1\n",
    "print(lista3)"
   ]
  },
  {
   "cell_type": "code",
   "execution_count": 41,
   "id": "04d74eb5",
   "metadata": {},
   "outputs": [
    {
     "name": "stdout",
     "output_type": "stream",
     "text": [
      "[1, 2, 3, 4, 5, 6]\n"
     ]
    }
   ],
   "source": [
    "lista3.extend(lista2)\n",
    "print(lista3)"
   ]
  },
  {
   "cell_type": "markdown",
   "id": "334a1a8b",
   "metadata": {},
   "source": [
    "Ej 3 Suma de lista de números"
   ]
  },
  {
   "cell_type": "code",
   "execution_count": 42,
   "id": "cf372c74",
   "metadata": {},
   "outputs": [
    {
     "name": "stdout",
     "output_type": "stream",
     "text": [
      "[1, 2, 3, 4, 5, 6]\n"
     ]
    }
   ],
   "source": [
    "print(lista3)"
   ]
  },
  {
   "cell_type": "code",
   "execution_count": 88,
   "id": "b67bab6a",
   "metadata": {},
   "outputs": [
    {
     "data": {
      "text/plain": [
       "27"
      ]
     },
     "execution_count": 88,
     "metadata": {},
     "output_type": "execute_result"
    }
   ],
   "source": [
    "sum(lista3)"
   ]
  },
  {
   "cell_type": "markdown",
   "id": "b499d9cb",
   "metadata": {},
   "source": [
    "Ej 4 Valor máximo"
   ]
  },
  {
   "cell_type": "code",
   "execution_count": 44,
   "id": "de83b542",
   "metadata": {},
   "outputs": [
    {
     "data": {
      "text/plain": [
       "6"
      ]
     },
     "execution_count": 44,
     "metadata": {},
     "output_type": "execute_result"
    }
   ],
   "source": [
    "max(lista3)"
   ]
  },
  {
   "cell_type": "markdown",
   "id": "65a70f00",
   "metadata": {},
   "source": [
    "Ej 5 Longitud"
   ]
  },
  {
   "cell_type": "code",
   "execution_count": 45,
   "id": "73e1e6c9",
   "metadata": {},
   "outputs": [
    {
     "data": {
      "text/plain": [
       "6"
      ]
     },
     "execution_count": 45,
     "metadata": {},
     "output_type": "execute_result"
    }
   ],
   "source": [
    "len(lista3)"
   ]
  },
  {
   "cell_type": "markdown",
   "id": "3109be1d",
   "metadata": {},
   "source": [
    "Ej 6 índice del primer elemento del objeto, por ejemplo 3"
   ]
  },
  {
   "cell_type": "code",
   "execution_count": 46,
   "id": "19807794",
   "metadata": {},
   "outputs": [
    {
     "name": "stdout",
     "output_type": "stream",
     "text": [
      "[1, 2, 3, 4, 5, 6]\n"
     ]
    }
   ],
   "source": [
    "print(lista3)"
   ]
  },
  {
   "cell_type": "code",
   "execution_count": 47,
   "id": "d384bf61",
   "metadata": {},
   "outputs": [
    {
     "data": {
      "text/plain": [
       "2"
      ]
     },
     "execution_count": 47,
     "metadata": {},
     "output_type": "execute_result"
    }
   ],
   "source": [
    "lista3.index(3)"
   ]
  },
  {
   "cell_type": "code",
   "execution_count": 48,
   "id": "96b4da49",
   "metadata": {},
   "outputs": [
    {
     "name": "stdout",
     "output_type": "stream",
     "text": [
      "[2, 3, 3, 4]\n"
     ]
    }
   ],
   "source": [
    "lista4=[2, 3, 3, 4]\n",
    "print(lista4)"
   ]
  },
  {
   "cell_type": "code",
   "execution_count": 49,
   "id": "92647428",
   "metadata": {},
   "outputs": [
    {
     "data": {
      "text/plain": [
       "1"
      ]
     },
     "execution_count": 49,
     "metadata": {},
     "output_type": "execute_result"
    }
   ],
   "source": [
    "lista4.index(3)"
   ]
  },
  {
   "cell_type": "markdown",
   "id": "11b6b9f1",
   "metadata": {},
   "source": [
    "Ej 7 Contar cuantas veces sale un elemento, buscamos el 3"
   ]
  },
  {
   "cell_type": "code",
   "execution_count": 50,
   "id": "1462c560",
   "metadata": {},
   "outputs": [
    {
     "data": {
      "text/plain": [
       "2"
      ]
     },
     "execution_count": 50,
     "metadata": {},
     "output_type": "execute_result"
    }
   ],
   "source": [
    "lista4.count(3)"
   ]
  },
  {
   "cell_type": "markdown",
   "id": "09be4a97",
   "metadata": {},
   "source": [
    "Ej 8 Sublista de una lista. Usamos lista3"
   ]
  },
  {
   "cell_type": "code",
   "execution_count": 51,
   "id": "510af90e",
   "metadata": {},
   "outputs": [
    {
     "name": "stdout",
     "output_type": "stream",
     "text": [
      "[1, 2, 3, 4, 5, 6]\n"
     ]
    }
   ],
   "source": [
    "print(lista3)"
   ]
  },
  {
   "cell_type": "code",
   "execution_count": 54,
   "id": "8a59fcac",
   "metadata": {},
   "outputs": [
    {
     "name": "stdout",
     "output_type": "stream",
     "text": [
      "[3, 4, 5]\n"
     ]
    }
   ],
   "source": [
    "lista4=lista3[2:5]\n",
    "print(lista4)"
   ]
  },
  {
   "cell_type": "markdown",
   "id": "b95a6bf8",
   "metadata": {},
   "source": [
    "Ej 9 y 10 último elemento"
   ]
  },
  {
   "cell_type": "code",
   "execution_count": 55,
   "id": "1a5676a9",
   "metadata": {},
   "outputs": [
    {
     "name": "stdout",
     "output_type": "stream",
     "text": [
      "6\n"
     ]
    }
   ],
   "source": [
    "print(lista3[-1])"
   ]
  },
  {
   "cell_type": "markdown",
   "id": "417e9cc5",
   "metadata": {},
   "source": [
    "Ej 11 Sublista de una lista "
   ]
  },
  {
   "cell_type": "code",
   "execution_count": 56,
   "id": "3fee43e6",
   "metadata": {},
   "outputs": [
    {
     "name": "stdout",
     "output_type": "stream",
     "text": [
      "[2, 3]\n"
     ]
    }
   ],
   "source": [
    "print(lista3[1:3])"
   ]
  },
  {
   "cell_type": "markdown",
   "id": "a7b5b551",
   "metadata": {},
   "source": [
    "Ej 12 Reemplazar un elemento"
   ]
  },
  {
   "cell_type": "code",
   "execution_count": 69,
   "id": "c3e8875b",
   "metadata": {},
   "outputs": [
    {
     "name": "stdout",
     "output_type": "stream",
     "text": [
      "[1, 8, 3, 4, 5, 6]\n"
     ]
    }
   ],
   "source": [
    "print(lista3)"
   ]
  },
  {
   "cell_type": "code",
   "execution_count": 68,
   "id": "c91166c0",
   "metadata": {},
   "outputs": [],
   "source": [
    "lista3[1]=8"
   ]
  },
  {
   "cell_type": "markdown",
   "id": "316a493b",
   "metadata": {},
   "source": [
    "Ej 13 Lista inversa"
   ]
  },
  {
   "cell_type": "code",
   "execution_count": 80,
   "id": "f6931ec2",
   "metadata": {},
   "outputs": [
    {
     "name": "stdout",
     "output_type": "stream",
     "text": [
      "[6, 5, 4, 3, 8, 1]\n"
     ]
    }
   ],
   "source": [
    "lista3.reverse()\n",
    "print(lista3)"
   ]
  },
  {
   "cell_type": "markdown",
   "id": "266d790a",
   "metadata": {},
   "source": [
    "Ej 14 Orden ascendente"
   ]
  },
  {
   "cell_type": "code",
   "execution_count": 81,
   "id": "1e8c202c",
   "metadata": {},
   "outputs": [
    {
     "name": "stdout",
     "output_type": "stream",
     "text": [
      "[1, 3, 4, 5, 6, 8]\n"
     ]
    }
   ],
   "source": [
    "lista3.sort()\n",
    "print(lista3)"
   ]
  },
  {
   "cell_type": "code",
   "execution_count": 84,
   "id": "8a33b268",
   "metadata": {},
   "outputs": [
    {
     "name": "stdout",
     "output_type": "stream",
     "text": [
      "[8, 6, 5, 4, 3, 1]\n"
     ]
    }
   ],
   "source": [
    "lista3.sort(reverse=True)\n",
    "print(lista3)"
   ]
  },
  {
   "cell_type": "markdown",
   "id": "e8e48db2",
   "metadata": {},
   "source": [
    "Ej 15 Elementos pares"
   ]
  },
  {
   "cell_type": "code",
   "execution_count": 85,
   "id": "c53aec21",
   "metadata": {},
   "outputs": [
    {
     "name": "stdout",
     "output_type": "stream",
     "text": [
      "[8, 6, 5, 4, 3, 1]\n"
     ]
    }
   ],
   "source": [
    "print(lista3)"
   ]
  },
  {
   "cell_type": "code",
   "execution_count": 87,
   "id": "98858060",
   "metadata": {},
   "outputs": [
    {
     "name": "stdout",
     "output_type": "stream",
     "text": [
      "[6, 4, 1]\n"
     ]
    }
   ],
   "source": [
    "print(lista3[1::2])"
   ]
  },
  {
   "cell_type": "markdown",
   "id": "a7911b13",
   "metadata": {},
   "source": [
    "Ej 16"
   ]
  }
 ],
 "metadata": {
  "kernelspec": {
   "display_name": "base",
   "language": "python",
   "name": "python3"
  },
  "language_info": {
   "codemirror_mode": {
    "name": "ipython",
    "version": 3
   },
   "file_extension": ".py",
   "mimetype": "text/x-python",
   "name": "python",
   "nbconvert_exporter": "python",
   "pygments_lexer": "ipython3",
   "version": "3.12.7"
  }
 },
 "nbformat": 4,
 "nbformat_minor": 5
}
