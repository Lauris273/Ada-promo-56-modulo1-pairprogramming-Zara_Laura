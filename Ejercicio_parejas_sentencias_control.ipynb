{
 "cells": [
  {
   "cell_type": "code",
   "execution_count": null,
   "id": "666fb63e",
   "metadata": {},
   "outputs": [],
   "source": []
  },
  {
   "cell_type": "markdown",
   "id": "7edffb10",
   "metadata": {},
   "source": [
    "# Ejercicio 1\n",
    "\n",
    "Imprimir los números del 1 al 5 utilizando un bucle for\n",
    "\n",
    "Descripción: Utiliza un bucle for para imprimir los números del 1 al 5 (incluido) en orden ascendente."
   ]
  },
  {
   "cell_type": "code",
   "execution_count": 1,
   "id": "e6b1ae4f",
   "metadata": {},
   "outputs": [],
   "source": [
    "numeros=[1, 2, 3, 4, 5]"
   ]
  },
  {
   "cell_type": "code",
   "execution_count": 2,
   "id": "8b2226b9",
   "metadata": {},
   "outputs": [
    {
     "name": "stdout",
     "output_type": "stream",
     "text": [
      "1\n",
      "2\n",
      "3\n",
      "4\n",
      "5\n"
     ]
    }
   ],
   "source": [
    "for num in numeros:\n",
    "    print(num)"
   ]
  },
  {
   "cell_type": "markdown",
   "id": "2f5a8656",
   "metadata": {},
   "source": [
    "# Ejercicio 2\n",
    "Calcular la suma de los primeros 10 números naturales utilizando un bucle for\n",
    "\n",
    "Descripción: Utiliza un bucle for para calcular la suma de los primeros 10 números naturales (1 + 2 + 3 + ... + 10)."
   ]
  },
  {
   "cell_type": "code",
   "execution_count": 3,
   "id": "5cf74978",
   "metadata": {},
   "outputs": [],
   "source": [
    "numeros2= [6, 7, 8, 9, 10]"
   ]
  },
  {
   "cell_type": "code",
   "execution_count": null,
   "id": "eb6dc0f2",
   "metadata": {},
   "outputs": [
    {
     "name": "stdout",
     "output_type": "stream",
     "text": [
      "[1, 2, 3, 4, 5, 6, 7, 8, 9, 10]\n"
     ]
    }
   ],
   "source": [
    "numeros3= numeros+numeros2\n",
    "\n",
    "\n",
    "print(numeros3)"
   ]
  },
  {
   "cell_type": "code",
   "execution_count": 11,
   "id": "1f0186c4",
   "metadata": {},
   "outputs": [
    {
     "name": "stdout",
     "output_type": "stream",
     "text": [
      "[1]\n",
      "[1, 3]\n",
      "[1, 3, 6]\n",
      "[1, 3, 6, 10]\n",
      "[1, 3, 6, 10, 15]\n",
      "[1, 3, 6, 10, 15, 21]\n",
      "[1, 3, 6, 10, 15, 21, 28]\n",
      "[1, 3, 6, 10, 15, 21, 28, 36]\n",
      "[1, 3, 6, 10, 15, 21, 28, 36, 45]\n",
      "[1, 3, 6, 10, 15, 21, 28, 36, 45, 55]\n"
     ]
    }
   ],
   "source": [
    "resultado=[]\n",
    "sum=0\n",
    "for num in numeros3:\n",
    "    sum=sum+num\n",
    "    resultado.append(sum)\n",
    "    print(resultado)"
   ]
  },
  {
   "cell_type": "code",
   "execution_count": 14,
   "id": "b10c723a",
   "metadata": {},
   "outputs": [
    {
     "name": "stdout",
     "output_type": "stream",
     "text": [
      "1\n",
      "3\n",
      "6\n",
      "10\n",
      "15\n",
      "21\n",
      "28\n",
      "36\n",
      "45\n",
      "55\n"
     ]
    }
   ],
   "source": [
    "suma=0\n",
    "for num in range(1,11):\n",
    "    suma=suma+num\n",
    "    print (suma)"
   ]
  },
  {
   "cell_type": "markdown",
   "id": "2c5ccf5f",
   "metadata": {},
   "source": [
    "# Ejercicio 3\n",
    "Calcular el producto de los elementos de una lista\n",
    "\n",
    "Descripción: Dada una lista de números, utiliza un bucle for para calcular el producto de todos los elementos."
   ]
  },
  {
   "cell_type": "code",
   "execution_count": 15,
   "id": "8b7823e9",
   "metadata": {},
   "outputs": [
    {
     "data": {
      "text/plain": [
       "[1, 2, 3, 4, 5, 6, 7, 8, 9, 10]"
      ]
     },
     "execution_count": 15,
     "metadata": {},
     "output_type": "execute_result"
    }
   ],
   "source": [
    "numeros3"
   ]
  },
  {
   "cell_type": "code",
   "execution_count": 17,
   "id": "2f6a03ce",
   "metadata": {},
   "outputs": [
    {
     "name": "stdout",
     "output_type": "stream",
     "text": [
      "1\n",
      "2\n",
      "6\n",
      "24\n",
      "120\n",
      "720\n",
      "5040\n",
      "40320\n",
      "362880\n",
      "3628800\n"
     ]
    }
   ],
   "source": [
    "multi=1\n",
    "for num in range(1,11):\n",
    "    multi=multi*num\n",
    "    print(multi)"
   ]
  },
  {
   "cell_type": "markdown",
   "id": "aad69181",
   "metadata": {},
   "source": [
    "# Ejercicio 4\n",
    "\n",
    "Imprimir los caracteres de una cadena de texto\n",
    "\n",
    "Descripción: Dada una cadena de texto, utiliza un bucle for para imprimir cada carácter en una línea separada."
   ]
  },
  {
   "cell_type": "code",
   "execution_count": 19,
   "id": "5c313a6d",
   "metadata": {},
   "outputs": [
    {
     "name": "stdout",
     "output_type": "stream",
     "text": [
      "Les doy manzanas a mis perros para que jueguen con ellas\n"
     ]
    }
   ],
   "source": [
    "perros=\"Les doy manzanas a mis perros para que jueguen con ellas\"\n",
    "print(perros)"
   ]
  },
  {
   "cell_type": "code",
   "execution_count": 20,
   "id": "b590c3f2",
   "metadata": {},
   "outputs": [
    {
     "name": "stdout",
     "output_type": "stream",
     "text": [
      "L\n",
      "e\n",
      "s\n",
      " \n",
      "d\n",
      "o\n",
      "y\n",
      " \n",
      "m\n",
      "a\n",
      "n\n",
      "z\n",
      "a\n",
      "n\n",
      "a\n",
      "s\n",
      " \n",
      "a\n",
      " \n",
      "m\n",
      "i\n",
      "s\n",
      " \n",
      "p\n",
      "e\n",
      "r\n",
      "r\n",
      "o\n",
      "s\n",
      " \n",
      "p\n",
      "a\n",
      "r\n",
      "a\n",
      " \n",
      "q\n",
      "u\n",
      "e\n",
      " \n",
      "j\n",
      "u\n",
      "e\n",
      "g\n",
      "u\n",
      "e\n",
      "n\n",
      " \n",
      "c\n",
      "o\n",
      "n\n",
      " \n",
      "e\n",
      "l\n",
      "l\n",
      "a\n",
      "s\n"
     ]
    }
   ],
   "source": [
    "for letra in perros:\n",
    "    print(letra)"
   ]
  }
 ],
 "metadata": {
  "kernelspec": {
   "display_name": "Python 3",
   "language": "python",
   "name": "python3"
  },
  "language_info": {
   "codemirror_mode": {
    "name": "ipython",
    "version": 3
   },
   "file_extension": ".py",
   "mimetype": "text/x-python",
   "name": "python",
   "nbconvert_exporter": "python",
   "pygments_lexer": "ipython3",
   "version": "3.11.9"
  }
 },
 "nbformat": 4,
 "nbformat_minor": 5
}
