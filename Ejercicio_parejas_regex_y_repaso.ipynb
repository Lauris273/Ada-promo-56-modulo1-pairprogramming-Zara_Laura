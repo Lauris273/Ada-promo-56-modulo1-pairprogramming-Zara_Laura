{
 "cells": [
  {
   "cell_type": "markdown",
   "id": "7561694f",
   "metadata": {},
   "source": [
    "Ejercicios regex\n",
    "\n",
    "1. \n",
    "Validar un número de teléfono.\n",
    "\n",
    "Descripción: Verificar si una cadena representa un número de teléfono válido en el formato (XXX) XXX-XXXX.\n",
    "\n",
    "Probad para cada uno de los teléfonos que tenemos en la siguiente lista:\n",
    "telefonos = [\"(123) 456-7890\", \"178 1890-733\", \"(555) 238-1987\", \"(123) 4560-7890\", \"(ABC) 098-1111\"]"
   ]
  },
  {
   "cell_type": "code",
   "execution_count": 2,
   "id": "16c79753",
   "metadata": {},
   "outputs": [],
   "source": [
    "import re"
   ]
  },
  {
   "cell_type": "code",
   "execution_count": 3,
   "id": "cbd4bf13",
   "metadata": {},
   "outputs": [],
   "source": [
    "telefonos = [\"(123) 456-7890\", \"178 1890-733\", \"(555) 238-1987\", \"(123) 4560-7890\", \"(ABC) 098-1111\"]"
   ]
  },
  {
   "cell_type": "code",
   "execution_count": 20,
   "id": "1f99b061",
   "metadata": {},
   "outputs": [],
   "source": [
    "# nos piden el formato (XXX) XXX-XXXX\n",
    "patron1 = r\"\\(\\d+\\)\\s\\d{3}-\\d{4}\""
   ]
  },
  {
   "cell_type": "code",
   "execution_count": null,
   "id": "79478055",
   "metadata": {},
   "outputs": [],
   "source": [
    "# probamos si sale en un par de ellos\n",
    "telf1 = \"(123) 456-7890\"\n",
    "telf2 = \"178 1890-733\""
   ]
  },
  {
   "cell_type": "code",
   "execution_count": 23,
   "id": "228f5a71",
   "metadata": {},
   "outputs": [
    {
     "data": {
      "text/plain": [
       "['(123) 456-7890']"
      ]
     },
     "execution_count": 23,
     "metadata": {},
     "output_type": "execute_result"
    }
   ],
   "source": [
    "re.findall(patron1, telf1)"
   ]
  },
  {
   "cell_type": "code",
   "execution_count": 25,
   "id": "d702c0ac",
   "metadata": {},
   "outputs": [
    {
     "name": "stdout",
     "output_type": "stream",
     "text": [
      "['(123) 456-7890']\n",
      "[]\n",
      "['(555) 238-1987']\n",
      "[]\n",
      "[]\n"
     ]
    }
   ],
   "source": [
    "# probamos si sale en la lista:\n",
    "for t in telefonos:\n",
    "    print(re.findall(patron1, t))\n"
   ]
  },
  {
   "cell_type": "markdown",
   "id": "f2794c86",
   "metadata": {},
   "source": [
    "2.\n",
    "Buscar todas las direcciones de correo electrónico en un texto.\n",
    "\n",
    "Descripción: Encontrar todas las direcciones de correo electrónico presentes en una cadena de texto.\n",
    "\n",
    "Probad con el siguiente string:\n",
    "texto = \"Mi correo es user@example.com. Contacta conmigo en john.doe@email.com\""
   ]
  },
  {
   "cell_type": "code",
   "execution_count": 26,
   "id": "fa2203bf",
   "metadata": {},
   "outputs": [],
   "source": [
    "texto = \"Mi correo es user@example.com. Contacta conmigo en john.doe@email.com\""
   ]
  },
  {
   "cell_type": "code",
   "execution_count": null,
   "id": "7d814241",
   "metadata": {},
   "outputs": [],
   "source": [
    "#tenemos dos inicios antes de la @:\n",
    "# - xxx@xxxxx.xxx \\w{1,}\n",
    "# - xxx.xxx@xxxx.xxx  \\w{1,}\\.\\w{1,}"
   ]
  },
  {
   "cell_type": "code",
   "execution_count": 40,
   "id": "a6585d14",
   "metadata": {},
   "outputs": [],
   "source": [
    "patron2 = r\"\\w{1,}\\.\\w{1,}\\@\\w{1,}\\.\\w{3}\""
   ]
  },
  {
   "cell_type": "code",
   "execution_count": 41,
   "id": "6116bbdd",
   "metadata": {},
   "outputs": [
    {
     "data": {
      "text/plain": [
       "['john.doe@email.com']"
      ]
     },
     "execution_count": 41,
     "metadata": {},
     "output_type": "execute_result"
    }
   ],
   "source": [
    "re.findall(patron2, texto)"
   ]
  },
  {
   "cell_type": "code",
   "execution_count": null,
   "id": "dc1a339f",
   "metadata": {},
   "outputs": [],
   "source": [
    "## chivatazo de chat gpt:    PARECE QUE VALDRÍA PARA CUALQUIER COSA QUE PONGAS EN UN CORREO\n",
    "patron3 = r\"[a-zA-Z0-9._%+-]+@[a-zA-Z0-9.-]+\\.[a-zA-Z]{2,}\""
   ]
  },
  {
   "cell_type": "code",
   "execution_count": 39,
   "id": "d7f8f7de",
   "metadata": {},
   "outputs": [
    {
     "data": {
      "text/plain": [
       "['user@example.com', 'john.doe@email.com']"
      ]
     },
     "execution_count": 39,
     "metadata": {},
     "output_type": "execute_result"
    }
   ],
   "source": [
    "re.findall(patron3, texto)"
   ]
  },
  {
   "cell_type": "code",
   "execution_count": null,
   "id": "cb7ab9ab",
   "metadata": {},
   "outputs": [],
   "source": [
    "## para nuestro caso, simplificamos:\n",
    "patron4 = r\"[a-z.]+@[a-z]+\\.[a-z]{2,}\""
   ]
  },
  {
   "cell_type": "code",
   "execution_count": 43,
   "id": "ac322fd1",
   "metadata": {},
   "outputs": [
    {
     "data": {
      "text/plain": [
       "['user@example.com', 'john.doe@email.com']"
      ]
     },
     "execution_count": 43,
     "metadata": {},
     "output_type": "execute_result"
    }
   ],
   "source": [
    "re.findall(patron4, texto)"
   ]
  },
  {
   "cell_type": "markdown",
   "id": "5ee3601a",
   "metadata": {},
   "source": [
    "Ejercicios Repaso:\n"
   ]
  }
 ],
 "metadata": {
  "kernelspec": {
   "display_name": "base",
   "language": "python",
   "name": "python3"
  },
  "language_info": {
   "codemirror_mode": {
    "name": "ipython",
    "version": 3
   },
   "file_extension": ".py",
   "mimetype": "text/x-python",
   "name": "python",
   "nbconvert_exporter": "python",
   "pygments_lexer": "ipython3",
   "version": "3.12.7"
  }
 },
 "nbformat": 4,
 "nbformat_minor": 5
}
