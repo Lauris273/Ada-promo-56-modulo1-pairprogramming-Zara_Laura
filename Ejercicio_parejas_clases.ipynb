{
 "cells": [
  {
   "cell_type": "markdown",
   "id": "b3b392c4",
   "metadata": {},
   "source": [
    "\n",
    "## Ejercicio 1.1\n",
    "La clase Empleados permite gestionar información relacionada con los empleados de una empresa, con las siguientes características:\n",
    "\n",
    "Debes crear una clase llamada \"Empleados\" que tenga los siguientes atributos: nombre, apellidos, edad, posicion, año , vacaciones(cantidad de días de vacaciones que le quedan al empleado) y herramientas.\n",
    "\n",
    "El constructor __init__ debe recibir estos atributos como parámetros y asignarlos a los respectivos atributos de la clase.\n",
    "\n",
    "Los atributos representan la información personal y profesional de un empleado, como su nombre completo, edad, posición en la empresa, año de ingreso, días de vacaciones disponibles y una lista de herramientas que el empleado sabe utilizar.\n",
    "\n",
    "Los métodos que debe recibir esta clase son:\n",
    "\n",
    "Método descripcion: Proporciona una descripción del empleado, incluyendo su nombre, posición en la empresa, y la cantidad de días de vacaciones que le quedan para el año actual. Los pasos para resolver el ejercicio del método descripcion son:\n",
    "\n",
    "Utilizar F-Strings: Utiliza f-strings para construir la descripción del empleado de manera legible y eficiente.\n",
    "\n",
    "Especificar los Atributos a Incluir: Determina cuáles de los atributos del empleado se deben incluir en la descripción. Los atributos necesarios son nombre, posicion, año, y vacaciones.\n",
    "\n",
    "Concatenar los Atributos: Usar f-strings para concatenar los atributos seleccionados y crear una descripción coherente."
   ]
  },
  {
   "cell_type": "code",
   "execution_count": 2,
   "id": "e126fd9f",
   "metadata": {},
   "outputs": [],
   "source": [
    "class Empleados:\n",
    "    def __init__(self, nombre, apellidos, edad, posicion, año, vacaciones, herramientas):\n",
    "        self.nombre=nombre\n",
    "        self.apellidos=apellidos\n",
    "        self.edad=edad\n",
    "        self.posicion=posicion\n",
    "        self.año=año\n",
    "        self.vacaciones=vacaciones\n",
    "        self.herramientas=herramientas\n"
   ]
  },
  {
   "cell_type": "code",
   "execution_count": 18,
   "id": "81c99a11",
   "metadata": {},
   "outputs": [
    {
     "data": {
      "text/plain": [
       "34"
      ]
     },
     "execution_count": 18,
     "metadata": {},
     "output_type": "execute_result"
    }
   ],
   "source": [
    "empleado_1.edad"
   ]
  },
  {
   "cell_type": "code",
   "execution_count": 28,
   "id": "7c9a42a5",
   "metadata": {},
   "outputs": [],
   "source": [
    "class Empleados:\n",
    "    def __init__(self, nombre, apellidos, edad, posicion, año, vacaciones, herramientas):\n",
    "        self.nombre=nombre\n",
    "        self.apellidos=apellidos\n",
    "        self.edad=edad\n",
    "        self.posicion=posicion\n",
    "        self.año=año\n",
    "        self.vacaciones=vacaciones\n",
    "        self.herramientas=herramientas\n",
    "\n",
    "    def descripcion(self):\n",
    "        print(f\"La empleada {self.nombre} {self.apellidos}, cuya posición en la empresa es de {self.posicion}, tiene {self.vacaciones} días de vacaciones.\")"
   ]
  },
  {
   "cell_type": "code",
   "execution_count": 23,
   "id": "5f738b6b",
   "metadata": {},
   "outputs": [
    {
     "data": {
      "text/plain": [
       "['Python', 'Excel', 'Word']"
      ]
     },
     "execution_count": 23,
     "metadata": {},
     "output_type": "execute_result"
    }
   ],
   "source": [
    "empleado_1.herramientas"
   ]
  },
  {
   "cell_type": "code",
   "execution_count": 30,
   "id": "b6aa7f9d",
   "metadata": {},
   "outputs": [
    {
     "name": "stdout",
     "output_type": "stream",
     "text": [
      "La empleada Zara Valentinova, cuya posición en la empresa es de aprendiz, tiene 21 días de vacaciones.\n"
     ]
    }
   ],
   "source": [
    "empleado_1.descripcion()"
   ]
  },
  {
   "cell_type": "markdown",
   "id": "b5dba802",
   "metadata": {},
   "source": [
    "# Ejercicio 1.2\n",
    "Método cambiando_posicion: Verifica las herramientas que el empleado tiene en su lista y devuelve un mensaje específico basado en las herramientas. Puede elogiar al empleado si tiene \"Python\" en su lista o sugerirle que deje de usar \"Excel\" y aprenda Python. Los pasos para resolver este ejercicio son:\n",
    "\n",
    "Iterar a través de las Herramientas: La función debe recorrer la lista de herramientas (self.herramientas) del empleado.\n",
    "\n",
    "Evaluar Cada Herramienta: Para cada herramienta en la lista, verifica si es igual a \"Python\" o \"Excel\" (en minúsculas)."
   ]
  },
  {
   "cell_type": "code",
   "execution_count": null,
   "id": "bde1c260",
   "metadata": {},
   "outputs": [],
   "source": [
    "class Empleados:\n",
    "    def __init__(self, nombre, apellidos, edad, posicion, año, vacaciones, herramientas):\n",
    "        self.nombre=nombre\n",
    "        self.apellidos=apellidos\n",
    "        self.edad=edad\n",
    "        self.posicion=posicion\n",
    "        self.año=año\n",
    "        self.vacaciones=vacaciones\n",
    "        self.herramientas=herramientas\n",
    "\n",
    "    def descripcion(self):\n",
    "        print(f\"La empleada {self.nombre} {self.apellidos}, cuya posición en la empresa es de {self.posicion}, tiene {self.vacaciones} días de vacaciones.\")\n",
    "    def cambiando_posicion(self):\n",
    "        if \"python\" in self.herramientas:\n",
    "            print(\"¡Genial! ¡Sabes programar en python!\")\n",
    "        else: \n",
    "            print(\"¡Deja de usar excel y aprende python!\")\n",
    "\n",
    "    \n",
    "    #No conseguimos que no diferencia entre mayúsculas y minusculas en la lista de herramientas.\n",
    "        "
   ]
  },
  {
   "cell_type": "code",
   "execution_count": null,
   "id": "4183ec7f",
   "metadata": {},
   "outputs": [],
   "source": []
  },
  {
   "cell_type": "code",
   "execution_count": 48,
   "id": "c8e07233",
   "metadata": {},
   "outputs": [],
   "source": [
    "empleado_1=Empleados(\"Zara\", \"Valentinova\", 34, \"aprendiz\", 2025, 21, [\"Python\",\"excel\", \"word\"])"
   ]
  },
  {
   "cell_type": "code",
   "execution_count": 50,
   "id": "88e6990b",
   "metadata": {},
   "outputs": [
    {
     "ename": "AttributeError",
     "evalue": "'list' object has no attribute 'lower'",
     "output_type": "error",
     "traceback": [
      "\u001b[31m---------------------------------------------------------------------------\u001b[39m",
      "\u001b[31mAttributeError\u001b[39m                            Traceback (most recent call last)",
      "\u001b[36mCell\u001b[39m\u001b[36m \u001b[39m\u001b[32mIn[50]\u001b[39m\u001b[32m, line 1\u001b[39m\n\u001b[32m----> \u001b[39m\u001b[32m1\u001b[39m \u001b[43mempleado_1\u001b[49m\u001b[43m.\u001b[49m\u001b[43mcambiando_posicion\u001b[49m\u001b[43m(\u001b[49m\u001b[43m)\u001b[49m\n",
      "\u001b[36mCell\u001b[39m\u001b[36m \u001b[39m\u001b[32mIn[47]\u001b[39m\u001b[32m, line 14\u001b[39m, in \u001b[36mEmpleados.cambiando_posicion\u001b[39m\u001b[34m(self)\u001b[39m\n\u001b[32m     13\u001b[39m \u001b[38;5;28;01mdef\u001b[39;00m\u001b[38;5;250m \u001b[39m\u001b[34mcambiando_posicion\u001b[39m(\u001b[38;5;28mself\u001b[39m):\n\u001b[32m---> \u001b[39m\u001b[32m14\u001b[39m     \u001b[38;5;28;01mif\u001b[39;00m \u001b[38;5;28;43mself\u001b[39;49m\u001b[43m.\u001b[49m\u001b[43mherramientas\u001b[49m\u001b[43m.\u001b[49m\u001b[43mlower\u001b[49m() == \u001b[33m\"\u001b[39m\u001b[33mpython\u001b[39m\u001b[33m\"\u001b[39m:\n\u001b[32m     15\u001b[39m         \u001b[38;5;28mprint\u001b[39m(\u001b[33m\"\u001b[39m\u001b[33m¡Genial! ¡Sabes programar en python!\u001b[39m\u001b[33m\"\u001b[39m)\n\u001b[32m     16\u001b[39m     \u001b[38;5;28;01melse\u001b[39;00m: \n",
      "\u001b[31mAttributeError\u001b[39m: 'list' object has no attribute 'lower'"
     ]
    }
   ],
   "source": [
    "empleado_1.cambiando_posicion()"
   ]
  }
 ],
 "metadata": {
  "kernelspec": {
   "display_name": "Python 3",
   "language": "python",
   "name": "python3"
  },
  "language_info": {
   "codemirror_mode": {
    "name": "ipython",
    "version": 3
   },
   "file_extension": ".py",
   "mimetype": "text/x-python",
   "name": "python",
   "nbconvert_exporter": "python",
   "pygments_lexer": "ipython3",
   "version": "3.11.9"
  }
 },
 "nbformat": 4,
 "nbformat_minor": 5
}
