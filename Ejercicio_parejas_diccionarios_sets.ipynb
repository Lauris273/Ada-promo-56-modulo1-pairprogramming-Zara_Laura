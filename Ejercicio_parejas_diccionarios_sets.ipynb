{
 "cells": [
  {
   "cell_type": "markdown",
   "id": "86ce6e3c",
   "metadata": {},
   "source": [
    "Ejercicio 1"
   ]
  },
  {
   "cell_type": "code",
   "execution_count": 1,
   "id": "ffcc62bc",
   "metadata": {},
   "outputs": [],
   "source": [
    "perros= {}"
   ]
  },
  {
   "cell_type": "markdown",
   "id": "023c8de0",
   "metadata": {},
   "source": [
    "Ejercicio 2"
   ]
  },
  {
   "cell_type": "code",
   "execution_count": 2,
   "id": "bd08b7bc",
   "metadata": {},
   "outputs": [],
   "source": [
    "mascotas={\"sol\": \"callejera\", \"neo\": \"zorro\", \"thai\": \"pastor aleman\", \"rocky\": \"mastin\", \"hecate\": \"gata\"}"
   ]
  },
  {
   "cell_type": "markdown",
   "id": "3144e95b",
   "metadata": {},
   "source": [
    "Ejercicio 3"
   ]
  },
  {
   "cell_type": "code",
   "execution_count": 5,
   "id": "824669fb",
   "metadata": {},
   "outputs": [
    {
     "name": "stdout",
     "output_type": "stream",
     "text": [
      "sol\n"
     ]
    }
   ],
   "source": [
    "mascota=input()\n",
    "print(mascota)"
   ]
  },
  {
   "cell_type": "markdown",
   "id": "064464d4",
   "metadata": {},
   "source": [
    "Ejercicio 4"
   ]
  },
  {
   "cell_type": "code",
   "execution_count": 10,
   "id": "d67556f1",
   "metadata": {},
   "outputs": [
    {
     "name": "stdout",
     "output_type": "stream",
     "text": [
      "{'tamaño': 'pequeno'}\n"
     ]
    }
   ],
   "source": [
    "perros.setdefault(\"tamaño\", \"pequeno\")\n",
    "print(perros)"
   ]
  },
  {
   "cell_type": "code",
   "execution_count": 13,
   "id": "0d8899ca",
   "metadata": {},
   "outputs": [],
   "source": [
    "nuevo_el={\"color\": \"atigrado\"}\n",
    "perros.update(nuevo_el)"
   ]
  },
  {
   "cell_type": "code",
   "execution_count": 14,
   "id": "026c0f24",
   "metadata": {},
   "outputs": [
    {
     "name": "stdout",
     "output_type": "stream",
     "text": [
      "{'tamaño': 'pequeno', 'color': 'atigrado'}\n"
     ]
    }
   ],
   "source": [
    "print(perros)"
   ]
  },
  {
   "cell_type": "markdown",
   "id": "730fe738",
   "metadata": {},
   "source": [
    "Ejercicio 5"
   ]
  },
  {
   "cell_type": "code",
   "execution_count": 16,
   "id": "4e72eb5a",
   "metadata": {},
   "outputs": [
    {
     "name": "stdout",
     "output_type": "stream",
     "text": [
      "{'tamaño': 'mediano', 'color': 'atigrado'}\n"
     ]
    }
   ],
   "source": [
    "perros[\"tamaño\"]=\"mediano\"\n",
    "print(perros)"
   ]
  }
 ],
 "metadata": {
  "kernelspec": {
   "display_name": "Python 3",
   "language": "python",
   "name": "python3"
  },
  "language_info": {
   "codemirror_mode": {
    "name": "ipython",
    "version": 3
   },
   "file_extension": ".py",
   "mimetype": "text/x-python",
   "name": "python",
   "nbconvert_exporter": "python",
   "pygments_lexer": "ipython3",
   "version": "3.11.9"
  }
 },
 "nbformat": 4,
 "nbformat_minor": 5
}
