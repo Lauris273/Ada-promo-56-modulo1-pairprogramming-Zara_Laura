{
 "cells": [
  {
   "cell_type": "markdown",
   "id": "86ce6e3c",
   "metadata": {},
   "source": [
    "Ejercicio 1"
   ]
  },
  {
   "cell_type": "code",
   "execution_count": 2,
   "id": "ffcc62bc",
   "metadata": {},
   "outputs": [],
   "source": [
    "perros= {}"
   ]
  },
  {
   "cell_type": "markdown",
   "id": "023c8de0",
   "metadata": {},
   "source": [
    "Ejercicio 2"
   ]
  },
  {
   "cell_type": "code",
   "execution_count": 3,
   "id": "bd08b7bc",
   "metadata": {},
   "outputs": [],
   "source": [
    "mascotas={\"sol\": \"callejera\", \"neo\": \"zorro\", \"thai\": \"pastor aleman\", \"rocky\": \"mastin\", \"hecate\": \"gata\"}"
   ]
  },
  {
   "cell_type": "markdown",
   "id": "3144e95b",
   "metadata": {},
   "source": [
    "Ejercicio 3"
   ]
  },
  {
   "cell_type": "code",
   "execution_count": 4,
   "id": "824669fb",
   "metadata": {},
   "outputs": [
    {
     "name": "stdout",
     "output_type": "stream",
     "text": [
      "sol\n"
     ]
    }
   ],
   "source": [
    "mascota=input()\n",
    "print(mascota)"
   ]
  },
  {
   "cell_type": "markdown",
   "id": "064464d4",
   "metadata": {},
   "source": [
    "Ejercicio 4"
   ]
  },
  {
   "cell_type": "code",
   "execution_count": 5,
   "id": "d67556f1",
   "metadata": {},
   "outputs": [
    {
     "name": "stdout",
     "output_type": "stream",
     "text": [
      "{'tamaño': 'pequeno'}\n"
     ]
    }
   ],
   "source": [
    "perros.setdefault(\"tamaño\", \"pequeno\")\n",
    "print(perros)"
   ]
  },
  {
   "cell_type": "code",
   "execution_count": 6,
   "id": "0d8899ca",
   "metadata": {},
   "outputs": [],
   "source": [
    "nuevo_el={\"color\": \"atigrado\"}\n",
    "perros.update(nuevo_el)"
   ]
  },
  {
   "cell_type": "code",
   "execution_count": 7,
   "id": "026c0f24",
   "metadata": {},
   "outputs": [
    {
     "name": "stdout",
     "output_type": "stream",
     "text": [
      "{'tamaño': 'pequeno', 'color': 'atigrado'}\n"
     ]
    }
   ],
   "source": [
    "print(perros)"
   ]
  },
  {
   "cell_type": "markdown",
   "id": "730fe738",
   "metadata": {},
   "source": [
    "Ejercicio 5"
   ]
  },
  {
   "cell_type": "code",
   "execution_count": 8,
   "id": "4e72eb5a",
   "metadata": {},
   "outputs": [
    {
     "name": "stdout",
     "output_type": "stream",
     "text": [
      "{'tamaño': 'mediano', 'color': 'atigrado'}\n"
     ]
    }
   ],
   "source": [
    "perros[\"tamaño\"]=\"mediano\"\n",
    "print(perros)"
   ]
  },
  {
   "cell_type": "markdown",
   "id": "227a3eef",
   "metadata": {},
   "source": [
    "Ejercicio 6"
   ]
  },
  {
   "cell_type": "code",
   "execution_count": 11,
   "id": "0850448c",
   "metadata": {},
   "outputs": [
    {
     "name": "stdout",
     "output_type": "stream",
     "text": [
      "{'sol': 'callejera', 'neo': 'zorro', 'thai': 'pastor aleman', 'rocky': 'mastin', 'hecate': 'gata'}\n"
     ]
    }
   ],
   "source": [
    "print(mascotas)"
   ]
  },
  {
   "cell_type": "code",
   "execution_count": 17,
   "id": "ef1e600c",
   "metadata": {},
   "outputs": [
    {
     "name": "stdout",
     "output_type": "stream",
     "text": [
      "sol\n"
     ]
    },
    {
     "data": {
      "text/plain": [
       "'callejera'"
      ]
     },
     "execution_count": 17,
     "metadata": {},
     "output_type": "execute_result"
    }
   ],
   "source": [
    "mascota=input(\"indica el nombre de tu mascota\")\n",
    "print(mascota)\n",
    "\n",
    "mascotas.pop(mascota)"
   ]
  },
  {
   "cell_type": "code",
   "execution_count": 18,
   "id": "89a3bdef",
   "metadata": {},
   "outputs": [
    {
     "name": "stdout",
     "output_type": "stream",
     "text": [
      "{'neo': 'zorro', 'thai': 'pastor aleman', 'rocky': 'mastin', 'hecate': 'gata'}\n"
     ]
    }
   ],
   "source": [
    "print(mascotas)\n"
   ]
  },
  {
   "cell_type": "markdown",
   "id": "fb0e71ca",
   "metadata": {},
   "source": [
    "Ejercicio 7 "
   ]
  },
  {
   "cell_type": "code",
   "execution_count": null,
   "id": "78c8d14b",
   "metadata": {},
   "outputs": [
    {
     "name": "stdout",
     "output_type": "stream",
     "text": [
      "neo\n",
      "{'neo': 'zorro', 'thai': 'pastor aleman', 'rocky': 'mastin', 'hecate': 'gata'}\n"
     ]
    },
    {
     "data": {
      "text/plain": [
       "'zorro'"
      ]
     },
     "execution_count": 30,
     "metadata": {},
     "output_type": "execute_result"
    }
   ],
   "source": [
    "nombre=input(\"indica el nombre de tu mascota\")\n",
    "print(nombre)\n",
    "# recuerda poner los print() para poder ir visualizando lo que escribes\n",
    "print(mascotas)\n",
    "mascotas.get(nombre,\"no existe\")\n"
   ]
  },
  {
   "cell_type": "markdown",
   "id": "b310c920",
   "metadata": {},
   "source": [
    "Lo que hace César en clase:"
   ]
  },
  {
   "cell_type": "code",
   "execution_count": 31,
   "id": "87c6e56b",
   "metadata": {},
   "outputs": [
    {
     "name": "stdout",
     "output_type": "stream",
     "text": [
      "neo\n",
      "True\n",
      "{'neo': 'zorro', 'thai': 'pastor aleman', 'rocky': 'mastin', 'hecate': 'gata'}\n"
     ]
    }
   ],
   "source": [
    "nombre=input(\"indica el nombre de tu mascota\")\n",
    "print(nombre)\n",
    "print(nombre in mascotas.keys())\n",
    "print(mascotas)\n",
    "\n"
   ]
  }
 ],
 "metadata": {
  "kernelspec": {
   "display_name": "Python 3",
   "language": "python",
   "name": "python3"
  },
  "language_info": {
   "codemirror_mode": {
    "name": "ipython",
    "version": 3
   },
   "file_extension": ".py",
   "mimetype": "text/x-python",
   "name": "python",
   "nbconvert_exporter": "python",
   "pygments_lexer": "ipython3",
   "version": "3.11.9"
  }
 },
 "nbformat": 4,
 "nbformat_minor": 5
}
