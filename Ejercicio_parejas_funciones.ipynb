{
 "cells": [
  {
   "cell_type": "markdown",
   "id": "aa5340b8",
   "metadata": {},
   "source": [
    "Ejercicios de pair\n",
    "\n",
    "1. Calcular el área de un círculo.\n",
    "\n",
    "Descripción: Crea una función llamada calcular_area_circulo que tome el radio como parámetro y devuelva el área del círculo."
   ]
  },
  {
   "cell_type": "code",
   "execution_count": null,
   "id": "1db71fa3",
   "metadata": {},
   "outputs": [],
   "source": [
    "## Definimos qué es pi y el área del círculo\n",
    "π = (3.14)   ### los decimales van con punto\n",
    "A = π * r**2"
   ]
  },
  {
   "cell_type": "code",
   "execution_count": 8,
   "id": "0ccc13eb",
   "metadata": {},
   "outputs": [
    {
     "name": "stdout",
     "output_type": "stream",
     "text": [
      "3.14\n",
      "4\n",
      "12.56\n"
     ]
    }
   ],
   "source": [
    "r = 2\n",
    "calcular_area_circulo = π * r**2\n",
    "print(π)\n",
    "print(r**2)\n",
    "print(calcular_area_circulo)"
   ]
  },
  {
   "cell_type": "code",
   "execution_count": null,
   "id": "8e1a58a0",
   "metadata": {},
   "outputs": [
    {
     "data": {
      "text/plain": [
       "3.14"
      ]
     },
     "execution_count": 11,
     "metadata": {},
     "output_type": "execute_result"
    }
   ],
   "source": [
    "## definimos la función toamando el código de la celda anterior\n",
    "\n",
    "def calcular_area_circulo(r, π=3.14):\n",
    "    area = π * r**2\n",
    "    return area\n",
    "\n",
    "calcular_area_circulo(1)"
   ]
  },
  {
   "cell_type": "markdown",
   "id": "59544da2",
   "metadata": {},
   "source": [
    "2. Contar la cantidad de caracteres en una cadena.\n",
    "\n",
    "Descripción: Crea una función llamada contar_caracteres que tome una cadena como parámetro y devuelva la cantidad de caracteres que contiene."
   ]
  },
  {
   "cell_type": "code",
   "execution_count": null,
   "id": "d5c88bd2",
   "metadata": {},
   "outputs": [
    {
     "name": "stdout",
     "output_type": "stream",
     "text": [
      "{'f': 1}\n"
     ]
    }
   ],
   "source": [
    "## para contar usamos .count, y para que nos diga cuantas veces sale, creamos un diccionario con la key \"letra\" y el value \"frecuencia\"\n",
    "cadena = \"funcionessss\"\n",
    "dic_cadena = {}\n",
    "dic_cadena[\"f\"]=cadena.count(\"f\")\n",
    "print(dic_cadena)"
   ]
  },
  {
   "cell_type": "code",
   "execution_count": null,
   "id": "9c9b3e51",
   "metadata": {},
   "outputs": [
    {
     "name": "stdout",
     "output_type": "stream",
     "text": [
      "{'f': 1, 'u': 1, 'n': 2, 'c': 1, 'i': 1, 'o': 1, 'e': 1, 's': 4}\n"
     ]
    }
   ],
   "source": [
    "## para ver todas las letras, montamos un for en el q revise cada letra de la cadena\n",
    "for letra in cadena:\n",
    "    dic_cadena[letra]=cadena.count(letra)\n",
    "\n",
    "print(dic_cadena)"
   ]
  },
  {
   "cell_type": "code",
   "execution_count": 23,
   "id": "9376024a",
   "metadata": {},
   "outputs": [
    {
     "data": {
      "text/plain": [
       "{'p': 1, 'a': 1, 'i': 1, 'r': 1}"
      ]
     },
     "execution_count": 23,
     "metadata": {},
     "output_type": "execute_result"
    }
   ],
   "source": [
    "##\n",
    "def contar_caracteres(posible_cadena):\n",
    "    dic_posible_cadena={}\n",
    "    for letra in posible_cadena:\n",
    "        dic_posible_cadena[letra]=posible_cadena.count(letra)\n",
    "    return dic_posible_cadena\n",
    "\n",
    "contar_caracteres(\"pair\")"
   ]
  },
  {
   "cell_type": "markdown",
   "id": "9ebccc5d",
   "metadata": {},
   "source": [
    "3. Determinar si una cadena es un palíndromo (se lee igual de dcha a izq, que de izq a dcha)\n",
    "\n",
    "Descripción: Crea una función llamada es_palindromo que tome una cadena como parámetro y devuelva True si es un palíndromo, o False si no lo es."
   ]
  },
  {
   "cell_type": "code",
   "execution_count": null,
   "id": "f0cd59bf",
   "metadata": {},
   "outputs": [
    {
     "data": {
      "text/plain": [
       "True"
      ]
     },
     "execution_count": 19,
     "metadata": {},
     "output_type": "execute_result"
    }
   ],
   "source": [
    "palindromo=\"zoomooz\"\n",
    "palindromo[::-1] # esto es la cadena a la inversa, empezando por el último objeto (índice -1). Una string no tiene índices, pero se puede acceder a sus caracteres usando índices.\n",
    "palindromo == palindromo[::-1] \n"
   ]
  },
  {
   "cell_type": "markdown",
   "id": "e6e92bb1",
   "metadata": {},
   "source": [
    "# Ejercicio 4: \n",
    "Calcular el promedio de una lista de números.\n",
    "\n",
    "Descripción: Crea una función llamada calcular_promedio que tome una lista de números como parámetro y devuelva el promedio de todos sus elementos."
   ]
  },
  {
   "cell_type": "code",
   "execution_count": 7,
   "id": "4d20affe",
   "metadata": {},
   "outputs": [
    {
     "name": "stdout",
     "output_type": "stream",
     "text": [
      "55\n"
     ]
    },
    {
     "data": {
      "text/plain": [
       "27.5"
      ]
     },
     "execution_count": 7,
     "metadata": {},
     "output_type": "execute_result"
    }
   ],
   "source": [
    "lista_num=[1,2,3,4,5,6,7,8,9,10]\n",
    "#el promedio es la suma de todos los numeros dividida por cuántos números se promedian.\n",
    "print(sum(lista_num))\n",
    "sum(lista_num)/2\n"
   ]
  },
  {
   "cell_type": "code",
   "execution_count": 16,
   "id": "2e11f050",
   "metadata": {},
   "outputs": [
    {
     "data": {
      "text/plain": [
       "15.0"
      ]
     },
     "execution_count": 16,
     "metadata": {},
     "output_type": "execute_result"
    }
   ],
   "source": [
    "def calcular_promedio(lista_numeros):\n",
    "    promedio = sum(lista_numeros)/2\n",
    "    return promedio\n",
    "\n",
    "\n",
    "calcular_promedio([2,4,6,8,10])"
   ]
  },
  {
   "cell_type": "code",
   "execution_count": null,
   "id": "62404d38",
   "metadata": {},
   "outputs": [
    {
     "data": {
      "text/plain": [
       "12.5"
      ]
     },
     "execution_count": 14,
     "metadata": {},
     "output_type": "execute_result"
    }
   ],
   "source": [
    "lista2=[1,3,5,7,9] #si definimos una lista anteriormente, le podemos aplicar la función calcular_promedio\n",
    "calcular_promedio(lista2)"
   ]
  }
 ],
 "metadata": {
  "kernelspec": {
   "display_name": "Python 3",
   "language": "python",
   "name": "python3"
  },
  "language_info": {
   "codemirror_mode": {
    "name": "ipython",
    "version": 3
   },
   "file_extension": ".py",
   "mimetype": "text/x-python",
   "name": "python",
   "nbconvert_exporter": "python",
   "pygments_lexer": "ipython3",
   "version": "3.11.9"
  }
 },
 "nbformat": 4,
 "nbformat_minor": 5
}
